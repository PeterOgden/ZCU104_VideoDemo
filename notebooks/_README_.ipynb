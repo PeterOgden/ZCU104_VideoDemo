{
 "cells": [
  {
   "cell_type": "markdown",
   "metadata": {},
   "source": [
    "# ZCU104 Video Demo\n",
    "\n",
    "This demo is designed to showcase the video aspects of the ZCU104 by implementing HDMI I/O along with some interactive processing elements.\n",
    "\n",
    "## Demo Setup\n",
    "\n",
    "The board should be set up in the following way\n",
    "\n",
    "1. 4K (3840x2160) display attached to output\n",
    "2. 1080p HDMI source\n",
    "3. 1080p DisplayPort output if using the board for interacting with Jupyter\n",
    "\n",
    "All of the monitors should be powered on before powering up the board.\n",
    "\n",
    "## Running the Demo\n",
    "\n",
    "1. Start the `Stats` notebook and run all of the cells. The second cell will output an address which should be copied to the clipboard\n",
    "2. Start The `Mixer` notebook and update the `stat_buffer` variable in the first cell to the address copied\n",
    "3. Run all of the cells in the `Mixer` notebook. This should cause a rainbow pattern to appear on the attached display\n",
    "4. Run the `Filter` notebook\n",
    "5. Run the `Logo` notebook - it can be closed after running\n",
    "6. Play with the widgets in the `Mixer` and `Filter` notebooks to create an output that looks good on screen."
   ]
  },
  {
   "cell_type": "code",
   "execution_count": null,
   "metadata": {},
   "outputs": [],
   "source": []
  }
 ],
 "metadata": {
  "kernelspec": {
   "display_name": "Python 3",
   "language": "python",
   "name": "python3"
  },
  "language_info": {
   "codemirror_mode": {
    "name": "ipython",
    "version": 3
   },
   "file_extension": ".py",
   "mimetype": "text/x-python",
   "name": "python",
   "nbconvert_exporter": "python",
   "pygments_lexer": "ipython3",
   "version": "3.6.5"
  }
 },
 "nbformat": 4,
 "nbformat_minor": 2
}
