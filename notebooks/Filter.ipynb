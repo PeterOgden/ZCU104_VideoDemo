{
 "cells": [
  {
   "cell_type": "code",
   "execution_count": 1,
   "metadata": {},
   "outputs": [],
   "source": [
    "import ipywidgets as widgets\n",
    "import numpy as np"
   ]
  },
  {
   "cell_type": "code",
   "execution_count": 2,
   "metadata": {},
   "outputs": [],
   "source": [
    "preset_values = {\n",
    "    \"Identity\": {\n",
    "        \"filter\": [[0,0,0,0,0],\n",
    "                   [0,0,0,0,0],\n",
    "                   [0,0,1,0,0],\n",
    "                   [0,0,0,0,0],\n",
    "                   [0,0,0,0,0]],\n",
    "        \"factor\": 1,\n",
    "        \"colour\": True,\n",
    "        \"absolute\": False,\n",
    "        \"min\": 0,\n",
    "        \"max\": 255},\n",
    "    \"Sobel X\": {\n",
    "        \"filter\": [[0, 0, 0, 0, 0],\n",
    "                   [0, 1, 0,-1, 0],\n",
    "                   [0, 2, 0,-2, 0],\n",
    "                   [0, 1, 0,-1, 0],\n",
    "                   [0, 0, 0, 0, 0]],\n",
    "        \"factor\": 1,\n",
    "        \"colour\": False,\n",
    "        \"absolute\": True,\n",
    "        \"min\": 32,\n",
    "        \"max\": 216\n",
    "    },\n",
    "    \"Sobel Y\": {\n",
    "        \"filter\": [[0, 0, 0, 0, 0],\n",
    "                   [0, 1, 2, 1, 0],\n",
    "                   [0, 0, 0, 0, 0],\n",
    "                   [0,-1,-2,-1, 0],\n",
    "                   [0, 0, 0, 0, 0]],\n",
    "        \"factor\": 1,\n",
    "        \"colour\": False,\n",
    "        \"absolute\": True,\n",
    "        \"min\": 32,\n",
    "        \"max\": 216\n",
    "    },\n",
    "    \"Gaussian\": {\n",
    "        \"filter\": [[1, 4, 6, 4, 1],\n",
    "                   [4,16,24,16, 4],\n",
    "                   [6,24,36,24, 6],\n",
    "                   [4,16,24,16, 4],\n",
    "                   [1, 4, 6, 4, 1]],\n",
    "        \"factor\": 256,\n",
    "        \"colour\": True,\n",
    "        \"absolute\": False,\n",
    "        \"min\": 0,\n",
    "        \"max\": 255\n",
    "    },\n",
    "    \"Adaptive Threshold\": {\n",
    "        \"filter\": [[-1, -4, -6, -4, -1],\n",
    "                   [-4,-16,-24,-16, -4],\n",
    "                   [-6,-24,220,-24, -6],\n",
    "                   [-4,-16,-24,-16, -4],\n",
    "                   [-1, -4, -6, -4, -1]],\n",
    "        \"factor\": 256,\n",
    "        \"colour\": False,\n",
    "        \"absolute\": False,\n",
    "        \"min\": 0,\n",
    "        \"max\": 1\n",
    "    },\n",
    "    \"Sharpen\": {\n",
    "        \"filter\": [[-1,-1,-1,-1,-1],\n",
    "                   [-1, 2, 2, 2,-1],\n",
    "                   [-1, 2, 8, 2,-1],\n",
    "                   [-1, 2, 2, 2,-1],\n",
    "                   [-1,-1,-1,-1,-1]],\n",
    "        \"colour\": True,\n",
    "        \"absolute\": False,\n",
    "        \"factor\": 8,\n",
    "        \"min\": 0,\n",
    "        \"max\": 255  \n",
    "    },\n",
    "    \"Threshold\": {\n",
    "        \"filter\": [[0,0,0,0,0],\n",
    "                   [0,0,0,0,0],\n",
    "                   [0,0,1,0,0],\n",
    "                   [0,0,0,0,0],\n",
    "                   [0,0,0,0,0]],\n",
    "        \"factor\": 1,\n",
    "        \"colour\": False,\n",
    "        \"absolute\": False,\n",
    "        \"min\": 128,\n",
    "        \"max\": 128\n",
    "    }\n",
    "}"
   ]
  },
  {
   "cell_type": "code",
   "execution_count": 3,
   "metadata": {},
   "outputs": [
    {
     "data": {
      "application/javascript": [
       "\n",
       "require(['notebook/js/codecell'], function(codecell) {\n",
       "  codecell.CodeCell.options_default.highlight_modes[\n",
       "      'magic_text/x-csrc'] = {'reg':[/^%%microblaze/]};\n",
       "  Jupyter.notebook.events.one('kernel_ready.Kernel', function(){\n",
       "      Jupyter.notebook.get_cells().map(function(cell){\n",
       "          if (cell.cell_type == 'code'){ cell.auto_highlight(); } }) ;\n",
       "  });\n",
       "});\n"
      ]
     },
     "metadata": {},
     "output_type": "display_data"
    }
   ],
   "source": [
    "from pynq import Overlay\n",
    "from demo_drivers import *\n",
    "ol = Overlay('./base_logo.bit', download=False)"
   ]
  },
  {
   "cell_type": "code",
   "execution_count": 4,
   "metadata": {},
   "outputs": [],
   "source": [
    "filter2d = ol.filter_pipeline_0\n",
    "\n",
    "\n",
    "_updating = False\n",
    "\n",
    "def new_preset(preset_dict):\n",
    "    global _updating\n",
    "    _updating = True\n",
    "    coeffs = preset_dict[\"filter\"]\n",
    "    factor = preset_dict[\"factor\"]\n",
    "    for i, ci in enumerate(coeffs):\n",
    "        for j, cj in enumerate(ci):\n",
    "            filter_matrix.children[i].children[j].value = cj / factor\n",
    "    colour_sel.value = \"Colour\" if preset_dict['colour'] else \"Greyscale\"\n",
    "    absolute_sel.value = preset_dict['absolute']\n",
    "    thresh_min.value = preset_dict['min']\n",
    "    thresh_max.value = preset_dict['max']\n",
    "    _updating = False\n",
    "\n",
    "def on_preset(change):\n",
    "    value = presets.value\n",
    "    if value in preset_values:\n",
    "        new_preset(preset_values[value])\n",
    "\n",
    "def update_coeff(change):\n",
    "    global _updating\n",
    "    o = change['owner']\n",
    "    o.element[:] = o.value * 256\n",
    "    if not _updating:\n",
    "        presets.value = \"Custom\"\n",
    "\n",
    "def update_colour(change):\n",
    "    global _updating\n",
    "    o = change['owner']\n",
    "    filter2d.colour[:] = 1 if o.value == \"Colour\" else 0\n",
    "    if not _updating:\n",
    "        presets.value = \"Custom\"\n",
    "\n",
    "def update_absolute(change):\n",
    "    global _updating\n",
    "    o = change['owner']\n",
    "    filter2d.absolute[:] = o.value\n",
    "    if not _updating:\n",
    "        presets.value = \"Custom\"\n",
    "\n",
    "def update_maxthreshold(change):\n",
    "    global _updating\n",
    "    o = change['owner']\n",
    "    filter2d.max_thresh[:] = o.value\n",
    "    if not _updating:\n",
    "        presets.value = \"Custom\"\n",
    "        \n",
    "def update_minthreshold(change):\n",
    "    global _updating\n",
    "    o = change['owner']\n",
    "    filter2d.min_thresh[:] = o.value\n",
    "    if not _updating:\n",
    "        presets.value = \"Custom\"\n",
    "        \n",
    "hboxes = []\n",
    "for i in range(5):\n",
    "    inputs = []\n",
    "    for j in range(5):\n",
    "        w = widgets.BoundedFloatText(value=0, min=-4, max=4, step=0.1, layout={\"width\": \"60px\"})\n",
    "        w.observe(update_coeff)\n",
    "        w.element = filter2d.coeffs[i:i+1,j:j+1]\n",
    "        inputs.append(w)\n",
    "    hboxes.append(widgets.HBox(inputs))\n",
    "filter_matrix = widgets.VBox(hboxes, layout={\"border\":\"solid 2px\"})\n",
    "\n",
    "colour_sel = widgets.RadioButtons(options=[\"Colour\", \"Greyscale\"], description=\"Filter Mode\")\n",
    "colour_sel.observe(update_colour)\n",
    "absolute_sel = widgets.Checkbox(description=\"Absolute Output\")\n",
    "absolute_sel.observe(update_absolute)\n",
    "thresh_min = widgets.IntSlider(description=\"Threshold\", min=0, max=255)\n",
    "thresh_min.observe(update_minthreshold)\n",
    "thresh_max = widgets.IntSlider(description=\" \", min=0, max=255, value=255)\n",
    "thresh_max.observe(update_maxthreshold)\n",
    "config = widgets.VBox([colour_sel, absolute_sel, thresh_min, thresh_max])\n",
    "\n",
    "presets = widgets.Select(\n",
    "    options=[\"Custom\", \"Identity\", \"Sobel X\", \"Sobel Y\", \"Gaussian\", \"Sharpen\", \"Threshold\", \"Adaptive Threshold\"],\n",
    "    rows=8)\n",
    "\n",
    "presets.observe(on_preset)\n",
    "filter_control = widgets.HBox([filter_matrix, config, presets])"
   ]
  },
  {
   "cell_type": "code",
   "execution_count": 5,
   "metadata": {
    "slideshow": {
     "slide_type": "slide"
    }
   },
   "outputs": [
    {
     "data": {
      "application/vnd.jupyter.widget-view+json": {
       "model_id": "a076403c199d46d9a77c1ffb244e7229"
      }
     },
     "metadata": {},
     "output_type": "display_data"
    }
   ],
   "source": [
    "filter_control"
   ]
  },
  {
   "cell_type": "markdown",
   "metadata": {
    "slideshow": {
     "slide_type": "slide"
    }
   },
   "source": [
    "![Filter Pipeline](FilterPipeline.png)"
   ]
  },
  {
   "cell_type": "code",
   "execution_count": 11,
   "metadata": {},
   "outputs": [],
   "source": [
    "from pynq import PL"
   ]
  },
  {
   "cell_type": "code",
   "execution_count": null,
   "metadata": {},
   "outputs": [],
   "source": []
  },
  {
   "cell_type": "code",
   "execution_count": null,
   "metadata": {},
   "outputs": [],
   "source": []
  },
  {
   "cell_type": "code",
   "execution_count": 12,
   "metadata": {},
   "outputs": [
    {
     "data": {
      "text/plain": [
       "True"
      ]
     },
     "execution_count": 12,
     "metadata": {},
     "output_type": "execute_result"
    }
   ],
   "source": [
    "ol.is_loaded()"
   ]
  },
  {
   "cell_type": "code",
   "execution_count": 13,
   "metadata": {},
   "outputs": [
    {
     "data": {
      "text/plain": [
       "'/home/xilinx/base_logo.bit'"
      ]
     },
     "execution_count": 13,
     "metadata": {},
     "output_type": "execute_result"
    }
   ],
   "source": [
    "PL._bitfile_name"
   ]
  },
  {
   "cell_type": "code",
   "execution_count": null,
   "metadata": {},
   "outputs": [],
   "source": []
  }
 ],
 "metadata": {
  "celltoolbar": "Slideshow",
  "kernelspec": {
   "display_name": "Python 3",
   "language": "python",
   "name": "python3"
  },
  "language_info": {
   "codemirror_mode": {
    "name": "ipython",
    "version": 3
   },
   "file_extension": ".py",
   "mimetype": "text/x-python",
   "name": "python",
   "nbconvert_exporter": "python",
   "pygments_lexer": "ipython3",
   "version": "3.6.5"
  }
 },
 "nbformat": 4,
 "nbformat_minor": 2
}
