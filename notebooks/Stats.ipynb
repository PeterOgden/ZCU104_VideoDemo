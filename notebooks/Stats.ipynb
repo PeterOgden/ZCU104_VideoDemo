{
 "cells": [
  {
   "cell_type": "code",
   "execution_count": 1,
   "metadata": {},
   "outputs": [
    {
     "data": {
      "application/javascript": [
       "\n",
       "require(['notebook/js/codecell'], function(codecell) {\n",
       "  codecell.CodeCell.options_default.highlight_modes[\n",
       "      'magic_text/x-csrc'] = {'reg':[/^%%microblaze/]};\n",
       "  Jupyter.notebook.events.one('kernel_ready.Kernel', function(){\n",
       "      Jupyter.notebook.get_cells().map(function(cell){\n",
       "          if (cell.cell_type == 'code'){ cell.auto_highlight(); } }) ;\n",
       "  });\n",
       "});\n"
      ]
     },
     "metadata": {},
     "output_type": "display_data"
    }
   ],
   "source": [
    "import matplotlib.pyplot as plt\n",
    "import numpy as np\n",
    "import pynq\n",
    "import psutil\n",
    "import time"
   ]
  },
  {
   "cell_type": "code",
   "execution_count": 2,
   "metadata": {},
   "outputs": [
    {
     "data": {
      "text/plain": [
       "'0x62a00000'"
      ]
     },
     "execution_count": 2,
     "metadata": {},
     "output_type": "execute_result"
    }
   ],
   "source": [
    "frame = pynq.Xlnk().cma_array(shape=(960 * 540 * 4), dtype='u1')\n",
    "hex(frame.physical_address)"
   ]
  },
  {
   "cell_type": "code",
   "execution_count": 3,
   "metadata": {},
   "outputs": [],
   "source": [
    "rails = pynq.get_rails()\n",
    "rail = rails['12V']"
   ]
  },
  {
   "cell_type": "code",
   "execution_count": 4,
   "metadata": {},
   "outputs": [
    {
     "data": {
      "image/png": "[encoded data removed]",
      "text/plain": [
       "<matplotlib.figure.Figure at 0x7f809bf080>"
      ]
     },
     "metadata": {},
     "output_type": "display_data"
    }
   ],
   "source": [
    "plt.style.use('dark_background')\n",
    "\n",
    "fig, axs = plt.subplots(5, 1, sharex=True, figsize=(12,6.75), dpi=80)\n",
    "fig.subplots_adjust(hspace=0)\n",
    "\n",
    "def draw_fig():\n",
    "    t = np.arange(30)\n",
    "    axs[0].clear()\n",
    "    axs[1].clear()\n",
    "    axs[2].clear()\n",
    "    axs[3].clear()\n",
    "    axs[4].clear()\n",
    "    axs[0].set_yticks(np.arange(0, 101, 50))\n",
    "    axs[0].set_ylim(-10, 110)\n",
    "    axs[0].set(ylabel=\"CPU0\")\n",
    "    axs[1].set_yticks(np.arange(0, 101, 50))\n",
    "    axs[1].set_ylim(-10, 110)\n",
    "    axs[1].set(ylabel=\"CPU1\")\n",
    "    axs[2].set_yticks(np.arange(0, 101, 50))\n",
    "    axs[2].set_ylim(-10, 110)\n",
    "    axs[2].set(ylabel=\"CPU2\")\n",
    "    axs[3].set_yticks(np.arange(0, 101, 50))\n",
    "    axs[3].set_ylim(-10, 110)\n",
    "    axs[3].set(ylabel=\"CPU3\")\n",
    "    axs[4].set_yticks(np.arange(15, 21, 2))\n",
    "    axs[4].set_ylim(14, 21)\n",
    "    axs[4].set(ylabel=\"Power (W)\")\n",
    "\n",
    "    axs[0].plot(t, results[0][-30:])\n",
    "    axs[1].plot(t, results[1][-30:])\n",
    "    axs[2].plot(t, results[2][-30:])\n",
    "    axs[3].plot(t, results[3][-30:])    \n",
    "    axs[4].plot(t, results[4][-30:], 'r')\n",
    "    \n",
    "    fig.canvas.draw()\n",
    "    buf = fig.canvas.buffer_rgba()\n",
    "    frame[:] = np.frombuffer(buf, dtype='u1')"
   ]
  },
  {
   "cell_type": "markdown",
   "metadata": {
    "slideshow": {
     "slide_type": "slide"
    }
   },
   "source": [
    "This loop runs every 2 seconds or so and updates the graph being drawn. The most complicated aspect is calculating the current CPU usage from the total time each processor has spent idle"
   ]
  },
  {
   "cell_type": "code",
   "execution_count": null,
   "metadata": {},
   "outputs": [],
   "source": [
    "prev = None\n",
    "prev_timestamp = None\n",
    "results = [[0 for _ in range(30)] for _ in range(5)]\n",
    "while True:\n",
    "    times = psutil.cpu_times(percpu=True)\n",
    "    timestamp = time.time()\n",
    "    if prev is not None:\n",
    "        period = timestamp - prev_timestamp\n",
    "        diff = [(1 - (times[i].idle - prev[i].idle) / period) * 100 for i in range(4)]\n",
    "        for i in range(4):\n",
    "            results[i].append(diff[i])\n",
    "        # Append the current power measurement\n",
    "        results[4].append(rail.power.value)\n",
    "    time.sleep(1)\n",
    "    draw_fig()\n",
    "    prev = times\n",
    "    prev_timestamp = timestamp"
   ]
  },
  {
   "cell_type": "markdown",
   "metadata": {
    "slideshow": {
     "slide_type": "slide"
    }
   },
   "source": [
    "The `pynq.get_rails()` function returns a dictionary of all rails in the systems. The default string representation will print the available sensors for each rail. The ZCU104 has voltage, current and power measurement on 10 rails in total"
   ]
  },
  {
   "cell_type": "code",
   "execution_count": 6,
   "metadata": {},
   "outputs": [
    {
     "data": {
      "text/plain": [
       "{'12V': Rail {name=12V, voltage=Sensor {name=12V_voltage, value=11.98V}, current=Sensor {name=12V_current, value=1.425A}, power=Sensor {name=12V_power, value=17.075W}},\n",
       " '1V13': Rail {name=1V13, voltage=Sensor {name=1V13_voltage, value=1.128V}, current=Sensor {name=1V13_current, value=0.468A}, power=Sensor {name=1V13_power, value=0.5W}},\n",
       " '1V2': Rail {name=1V2, voltage=Sensor {name=1V2_voltage, value=1.195V}, current=Sensor {name=1V2_current, value=0.5A}, power=Sensor {name=1V2_power, value=1.03125W}},\n",
       " '1V8': Rail {name=1V8, voltage=Sensor {name=1V8_voltage, value=1.796V}, current=Sensor {name=1V8_current, value=0.312A}, power=Sensor {name=1V8_power, value=0.5625W}},\n",
       " '3V3': Rail {name=3V3, voltage=Sensor {name=3V3_voltage, value=3.304V}, current=Sensor {name=3V3_current, value=0.75A}, power=Sensor {name=3V3_power, value=2.25W}},\n",
       " '5V0': Rail {name=5V0, voltage=Sensor {name=5V0_voltage, value=5.0V}, current=Sensor {name=5V0_current, value=0.093A}, power=Sensor {name=5V0_power, value=0.9375W}},\n",
       " 'FMC': Rail {name=FMC, voltage=Sensor {name=FMC_voltage, value=0.156V}, current=Sensor {name=FMC_current, value=10.218A}, power=Sensor {name=FMC_power, value=0.03125W}},\n",
       " 'INT': Rail {name=INT, voltage=Sensor {name=INT_voltage, value=0.851V}, current=Sensor {name=INT_current, value=4.25A}, power=Sensor {name=INT_power, value=4.0W}},\n",
       " 'MGTA': Rail {name=MGTA, voltage=Sensor {name=MGTA_voltage, value=0.898V}, current=Sensor {name=MGTA_current, value=0.136A}, power=Sensor {name=MGTA_power, value=0.125W}},\n",
       " 'MGTRA': Rail {name=MGTRA, voltage=Sensor {name=MGTRA_voltage, value=0.843V}, current=Sensor {name=MGTRA_current, value=0.077A}, power=Sensor {name=MGTRA_power, value=0.0625W}}}"
      ]
     },
     "execution_count": 6,
     "metadata": {},
     "output_type": "execute_result"
    }
   ],
   "source": [
    "pynq.get_rails()"
   ]
  },
  {
   "cell_type": "code",
   "execution_count": null,
   "metadata": {
    "slideshow": {
     "slide_type": "slide"
    }
   },
   "outputs": [],
   "source": []
  }
 ],
 "metadata": {
  "celltoolbar": "Slideshow",
  "kernelspec": {
   "display_name": "Python 3",
   "language": "python",
   "name": "python3"
  },
  "language_info": {
   "codemirror_mode": {
    "name": "ipython",
    "version": 3
   },
   "file_extension": ".py",
   "mimetype": "text/x-python",
   "name": "python",
   "nbconvert_exporter": "python",
   "pygments_lexer": "ipython3",
   "version": "3.6.5"
  }
 },
 "nbformat": 4,
 "nbformat_minor": 2
}
