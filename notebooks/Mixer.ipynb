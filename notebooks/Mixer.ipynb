{
 "cells": [
  {
   "cell_type": "markdown",
   "metadata": {
    "slideshow": {
     "slide_type": "slide"
    }
   },
   "source": [
    "# Video Output Control Panel\n",
    "\n",
    "This notebook uses the Xilinx Video Mixer IP to display up to four windows on the HDMI output. It assumes that a camera is connected via HDMI input generating 1080p video and outputs 4K"
   ]
  },
  {
   "cell_type": "markdown",
   "metadata": {},
   "source": [
    "First perform a series of imports and download the overlay. The `stat_buffer` variable should be set to the output of the second cell of the `Stats` notebook. This allows for the graph showing CPU usage and power to be displayed on the HDMI output"
   ]
  },
  {
   "cell_type": "code",
   "execution_count": 1,
   "metadata": {},
   "outputs": [
    {
     "data": {
      "application/javascript": [
       "\n",
       "require(['notebook/js/codecell'], function(codecell) {\n",
       "  codecell.CodeCell.options_default.highlight_modes[\n",
       "      'magic_text/x-csrc'] = {'reg':[/^%%microblaze/]};\n",
       "  Jupyter.notebook.events.one('kernel_ready.Kernel', function(){\n",
       "      Jupyter.notebook.get_cells().map(function(cell){\n",
       "          if (cell.cell_type == 'code'){ cell.auto_highlight(); } }) ;\n",
       "  });\n",
       "});\n"
      ]
     },
     "metadata": {},
     "output_type": "display_data"
    }
   ],
   "source": [
    "import functools\n",
    "import threading\n",
    "from pynq import Xlnk\n",
    "from demo_drivers import *\n",
    "from pynq.overlays.base import BaseOverlay\n",
    "import asyncio\n",
    "from pynq.lib.video import *\n",
    "\n",
    "xlnk = Xlnk()\n",
    "ol = BaseOverlay('./base_logo.bit')\n",
    "stat_buffer = 0x62a00000"
   ]
  },
  {
   "cell_type": "markdown",
   "metadata": {
    "slideshow": {
     "slide_type": "slide"
    }
   },
   "source": [
    "Next set up the HDMI input pipeline to `UYVY` format and start a loop to service any `asyncio` coroutines we need to launch."
   ]
  },
  {
   "cell_type": "code",
   "execution_count": 2,
   "metadata": {},
   "outputs": [],
   "source": [
    "\n",
    "hdmi_in = ol.video.hdmi_in\n",
    "dma = ol.video.axi_vdma\n",
    "\n",
    "hdmi_in.frontend.start()\n",
    "hdmi_in.colorspace = COLOR_IN_YCBCR\n",
    "hdmi_in.pixel_pack.write(0x10, 5)\n",
    "\n",
    "loop = asyncio.get_event_loop()\n",
    "def run_loop():\n",
    "    loop.run_forever()\n",
    "    \n",
    "asyncio_thread = threading.Thread(target=run_loop)\n",
    "asyncio_thread.start()"
   ]
  },
  {
   "cell_type": "markdown",
   "metadata": {
    "slideshow": {
     "slide_type": "slide"
    }
   },
   "source": [
    "Next up are some helper classes for interacting with the various IP in the design, namely the HDMI input, 2D filter and optical flow unit. These classes simplify the implementation of the final control panel by providing a unified API."
   ]
  },
  {
   "cell_type": "code",
   "execution_count": 3,
   "metadata": {},
   "outputs": [],
   "source": [
    "import cv2\n",
    "\n",
    "class HDMIWrapper:\n",
    "    def __init__(self, dma):\n",
    "        self._listeners = set()\n",
    "        self._channel = dma.readchannel\n",
    "        self._channel.mode = VideoMode(1920,1080,16)\n",
    "        self.running = True\n",
    "        \n",
    "    def start(self):\n",
    "        self.running = True\n",
    "        self.task = asyncio.run_coroutine_threadsafe(self._run_thread(), asyncio.get_event_loop())\n",
    "    \n",
    "    def stop(self):\n",
    "        self.running = False\n",
    "    \n",
    "    def add_listener(self, listener):\n",
    "        self._listeners.add(listener)\n",
    "    \n",
    "    def remove_listener(self, listener):\n",
    "        if listener in self._listeners:\n",
    "            self._listeners.remove(listener)\n",
    "\n",
    "    async def _run_thread(self):\n",
    "        channel = self._channel\n",
    "        channel.start()\n",
    "        prev_frame = None\n",
    "        while self.running:\n",
    "            frame = await channel.readframe_async()\n",
    "            if prev_frame is not None:\n",
    "                for l in self._listeners:\n",
    "                    l.next_frame(frame, prev_frame)\n",
    "            prev_frame = frame\n",
    "        \n",
    "class VDMAListener:\n",
    "    def __init__(self, dma, layer):\n",
    "        self._channel = dma.writechannel\n",
    "        dma.writechannel.mode = VideoMode(1920,1080,16)\n",
    "        dma.writechannel.start()\n",
    "        self._layer = layer\n",
    "        layer.width = 1920\n",
    "        layer.height = 1080\n",
    "        \n",
    "    def next_frame(self, frame, prev_frame):\n",
    "        self._channel.setframe(frame)\n",
    "        \n",
    "    def show(self):\n",
    "        self._layer.enable()\n",
    "        \n",
    "    def hide(self):\n",
    "        self._layer.disable()\n",
    "        \n",
    "class FlowDriver:\n",
    "    def __init__(self, ip, layer):\n",
    "        self._ip = ip\n",
    "        self._layer = layer\n",
    "        self.out_frame = xlnk.cma_array(shape=(1080,1920,4), dtype='u1')\n",
    "        self._layer.buffer = self.out_frame.physical_address\n",
    "        self._layer.width = 1920\n",
    "        self._layer.stride = 1920 * 4\n",
    "        self._layer.height = 1080\n",
    "        \n",
    "    def show(self):\n",
    "        self._layer.enable()\n",
    "    \n",
    "    def hide(self):\n",
    "        self._layer.disable()\n",
    "        \n",
    "    def next_frame(self, frame, prev_frame):\n",
    "        self._ip.process(frame, prev_frame, self.out_frame)\n",
    "    \n",
    "class FilterDriver:\n",
    "    def __init__(self, ip, layer):\n",
    "        self._ip = ip\n",
    "        self._layer = layer\n",
    "        self.out_frame = xlnk.cma_array(shape=(1080,1920,4), dtype='u1')\n",
    "        self._layer.buffer = self.out_frame.physical_address\n",
    "        self._layer.width = 1920\n",
    "        self._layer.stride = 1920 * 4\n",
    "        self._layer.height = 1080\n",
    "    \n",
    "    def show(self):\n",
    "        self._layer.enable()\n",
    "    \n",
    "    def hide(self):\n",
    "        self._layer.disable()\n",
    "    \n",
    "    def next_frame(self, frame, prev_frame):\n",
    "        self._ip.process(frame, self.out_frame)"
   ]
  },
  {
   "cell_type": "markdown",
   "metadata": {
    "slideshow": {
     "slide_type": "slide"
    }
   },
   "source": [
    "Next we need to set up all of the devices and start the HDMI output"
   ]
  },
  {
   "cell_type": "code",
   "execution_count": 4,
   "metadata": {},
   "outputs": [
    {
     "name": "stdout",
     "output_type": "stream",
     "text": [
      "Frequency: 297000000\n"
     ]
    }
   ],
   "source": [
    "mixer = ol.video.hdmi_out.v_mix_0\n",
    "tpg = ol.video.hdmi_out.v_tpg_0\n",
    "\n",
    "hdmi = HDMIWrapper(dma)\n",
    "hdmi_display = VDMAListener(dma, mixer.layers[1])\n",
    "hdmi.add_listener(hdmi_display)\n",
    "filter2d = FilterDriver(ol.filter_pipeline_0, mixer.layers[2])\n",
    "flow = FlowDriver(ol.optical_flow_0, mixer.layers[3])\n",
    "\n",
    "stat_layer = mixer.layers[4]\n",
    "stat_layer.buffer = stat_buffer\n",
    "stat_layer.width = 960\n",
    "stat_layer.height = 540\n",
    "stat_layer.scale = 1\n",
    "stat_layer.stride = 960 * 4\n",
    "\n",
    "logo_layer = mixer.layers[5]\n",
    "logo_layer.width = 256\n",
    "logo_layer.height = 81\n",
    "logo_layer.scale = 1\n",
    "\n",
    "hdmi_out = ol.video.hdmi_out.frontend\n",
    "hdmi_out.mode = VideoMode(3840, 2160, 24, 30)\n",
    "hdmi_out.start()\n",
    "\n",
    "mixer.width = 3840\n",
    "mixer.height = 2160\n",
    "tpg.width = 3840\n",
    "tpg.height = 2160\n",
    "tpg.pattern = 0xD\n",
    "mixer.enable_layer(0)\n",
    "mixer.start()\n",
    "tpg.start()"
   ]
  },
  {
   "cell_type": "markdown",
   "metadata": {
    "slideshow": {
     "slide_type": "slide"
    }
   },
   "source": [
    "Finally we can build up the control panel. Each layer has adjustable X, Y and transparency and can be enabled or disabled."
   ]
  },
  {
   "cell_type": "code",
   "execution_count": 5,
   "metadata": {},
   "outputs": [],
   "source": [
    "import ipywidgets as widgets\n",
    "\n",
    "def handle_x(change):\n",
    "    layer = change['owner'].layer\n",
    "    layer.x = change[\"owner\"].value\n",
    "\n",
    "def handle_y(change):\n",
    "    layer = change['owner'].layer\n",
    "    layer.y = change['owner'].value\n",
    "    \n",
    "def handle_alpha(change):\n",
    "    layer = change['owner'].layer\n",
    "    layer.alpha = int(change['owner'].value * 256)\n",
    "    \n",
    "class LayerControls:\n",
    "    def __init__(self, name, layer, max_x=1920, max_y=1080):\n",
    "        self._xslider = widgets.IntSlider(value=0, min=0, max=max_x, description=\"X Position\")\n",
    "        self._xslider.layer = layer\n",
    "        self._xslider.observe(handle_x)\n",
    "        self._yslider = widgets.IntSlider(value=0, min=0, max=max_y, description=\"Y Position\")\n",
    "        self._yslider.layer = layer\n",
    "        self._yslider.observe(handle_y)\n",
    "        self._alpha = widgets.FloatSlider(value=1, min=0, max=1, step=0.01, description=\"Opacity\")\n",
    "        self._alpha.layer = layer\n",
    "        self._alpha.observe(handle_alpha)\n",
    "        self._name = widgets.HTML(f\"<h3>{name}</h3>\", layout={\"width\": \"150px\"})\n",
    "        self._vbox = widgets.VBox([self._xslider, self._yslider, self._alpha])\n",
    "        self._options.observe(self._status_change)\n",
    "        self.hbox = widgets.HBox(\n",
    "            [self._name, self._options, self._vbox], layout={\"border\": \"solid 2px\", \"padding\": \"10px\"})\n",
    "        \n",
    "class SourceControls(LayerControls):\n",
    "    def __init__(self, name, layer, source, **kwargs):\n",
    "        self._options = widgets.RadioButtons(\n",
    "            options=[\"Off\", \"Hidden\", \"Visible\"], description=\"Status\", layout={\"width\": \"250px\"})\n",
    "        self._layer = layer\n",
    "        self._source = source\n",
    "        super().__init__(name, layer, **kwargs)\n",
    "\n",
    "    def _status_change(self, new_option):\n",
    "        setting = self._options.value\n",
    "        if setting == \"Off\":\n",
    "            self._source.stop()\n",
    "            self._layer.disable()\n",
    "        elif setting == \"Hidden\":\n",
    "            if not self._source.running:\n",
    "                self._source.start()\n",
    "            self._layer.disable()\n",
    "        else:\n",
    "            if not self._source.running:\n",
    "                self._source.start()\n",
    "            self._layer.enable()\n",
    "    \n",
    "class ProcessingControls(LayerControls):\n",
    "    def __init__(self, name, layer, processing, **kwargs):\n",
    "        self._options = widgets.RadioButtons(options=[\"Off\", \"On\"], description=\"Status\", layout={\"width\": \"250px\"})\n",
    "        self._layer = layer\n",
    "        self._processing = processing\n",
    "        super().__init__(name, layer, **kwargs)\n",
    "        \n",
    "    def _status_change(self, new_option):\n",
    "        if self._options.value == \"On\":\n",
    "            self._layer.enable()\n",
    "            if self._processing:\n",
    "                hdmi.add_listener(self._processing)\n",
    "        else:\n",
    "            self._layer.disable()\n",
    "            if self._processing:\n",
    "                hdmi.remove_listener(self._processing)\n",
    "    \n",
    "control_panel = widgets.VBox([SourceControls(\"Webcam\", mixer.layers[1], hdmi).hbox, \n",
    "                              ProcessingControls(\"Filter\", mixer.layers[2], filter2d).hbox,\n",
    "                              ProcessingControls(\"Optical Flow\", mixer.layers[3], flow).hbox,\n",
    "                              ProcessingControls(\"Status\", mixer.layers[4], None).hbox,\n",
    "                              ProcessingControls(\"Logo\", mixer.layers[5], None, max_x=3328, max_y=1998).hbox])"
   ]
  },
  {
   "cell_type": "markdown",
   "metadata": {
    "slideshow": {
     "slide_type": "slide"
    }
   },
   "source": [
    "Show the control panel"
   ]
  },
  {
   "cell_type": "code",
   "execution_count": 6,
   "metadata": {
    "slideshow": {
     "slide_type": "-"
    }
   },
   "outputs": [
    {
     "data": {
      "application/vnd.jupyter.widget-view+json": {
       "model_id": "d2a62ea013b34e029bf8da314d127900"
      }
     },
     "metadata": {},
     "output_type": "display_data"
    }
   ],
   "source": [
    "control_panel"
   ]
  },
  {
   "cell_type": "markdown",
   "metadata": {
    "slideshow": {
     "slide_type": "slide"
    }
   },
   "source": [
    "![Video Pipeline](VideoPipeline.png)"
   ]
  },
  {
   "cell_type": "code",
   "execution_count": 7,
   "metadata": {},
   "outputs": [],
   "source": [
    "ol?\n"
   ]
  },
  {
   "cell_type": "code",
   "execution_count": null,
   "metadata": {},
   "outputs": [],
   "source": []
  }
 ],
 "metadata": {
  "celltoolbar": "Slideshow",
  "kernelspec": {
   "display_name": "Python 3",
   "language": "python",
   "name": "python3"
  },
  "language_info": {
   "codemirror_mode": {
    "name": "ipython",
    "version": 3
   },
   "file_extension": ".py",
   "mimetype": "text/x-python",
   "name": "python",
   "nbconvert_exporter": "python",
   "pygments_lexer": "ipython3",
   "version": "3.6.5"
  }
 },
 "nbformat": 4,
 "nbformat_minor": 2
}
